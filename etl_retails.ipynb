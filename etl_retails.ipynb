{
 "cells": [
  {
   "cell_type": "code",
   "execution_count": 1,
   "id": "fd6ba26c",
   "metadata": {},
   "outputs": [
    {
     "name": "stdout",
     "output_type": "stream",
     "text": [
      " Saved transformed sales data to transformed_sales.csv\n",
      " Saved sales summary to sales_summary_by_store_year.csv\n"
     ]
    }
   ],
   "source": [
    "import sqlite3\n",
    "import pandas as pd\n",
    "\n",
    "# 1. Connect to your SQLite database\n",
    "db_path = \"retail_sales.db\"  \n",
    "conn = sqlite3.connect(db_path)\n",
    "\n",
    "# 2. Extract: Get all sales with dimension details\n",
    "sales_query = \"\"\"\n",
    "SELECT \n",
    "    f.SaleID,\n",
    "    c.CustomerName,\n",
    "    p.ProductName,\n",
    "    t.Date,\n",
    "    s.StoreName,\n",
    "    f.SalesAmount\n",
    "FROM FactSales f\n",
    "JOIN DimCustomer c ON f.CustomerID = c.CustomerID\n",
    "JOIN DimProduct p ON f.ProductID = p.ProductID\n",
    "JOIN DimTime t ON f.TimeID = t.TimeID\n",
    "JOIN DimStore s ON f.StoreID = s.StoreID;\n",
    "\"\"\"\n",
    "sales_df = pd.read_sql_query(sales_query, conn)\n",
    "\n",
    "#  Convert Date column to datetime\n",
    "sales_df[\"Date\"] = pd.to_datetime(sales_df[\"Date\"], errors=\"coerce\")\n",
    "\n",
    "# 3. Transform: Save detailed sales to CSV\n",
    "sales_csv_path = \"transformed_sales.csv\"\n",
    "sales_df.to_csv(sales_csv_path, index=False)\n",
    "print(f\" Saved transformed sales data to {sales_csv_path}\")\n",
    "\n",
    "# 4. Transform: Create sales summary by Store & Year\n",
    "summary_query = \"\"\"\n",
    "SELECT \n",
    "    s.StoreName,\n",
    "    strftime('%Y', t.Date) AS Year,\n",
    "    SUM(f.SalesAmount) AS TotalSales\n",
    "FROM FactSales f\n",
    "JOIN DimStore s ON f.StoreID = s.StoreID\n",
    "JOIN DimTime t ON f.TimeID = t.TimeID\n",
    "GROUP BY s.StoreName, Year\n",
    "ORDER BY s.StoreName, Year;\n",
    "\"\"\"\n",
    "summary_df = pd.read_sql_query(summary_query, conn)\n",
    "\n",
    "#  No need for datetime conversion here because Year is already a string\n",
    "\n",
    "# 5. Save summary to CSV\n",
    "summary_csv_path = \"sales_summary_by_store_year.csv\"\n",
    "summary_df.to_csv(summary_csv_path, index=False)\n",
    "print(f\" Saved sales summary to {summary_csv_path}\")\n",
    "\n",
    "# Close connection\n",
    "conn.close()\n",
    "\n",
    "\n"
   ]
  }
 ],
 "metadata": {
  "kernelspec": {
   "display_name": "Python 3",
   "language": "python",
   "name": "python3"
  },
  "language_info": {
   "codemirror_mode": {
    "name": "ipython",
    "version": 3
   },
   "file_extension": ".py",
   "mimetype": "text/x-python",
   "name": "python",
   "nbconvert_exporter": "python",
   "pygments_lexer": "ipython3",
   "version": "3.12.0"
  }
 },
 "nbformat": 4,
 "nbformat_minor": 5
}
